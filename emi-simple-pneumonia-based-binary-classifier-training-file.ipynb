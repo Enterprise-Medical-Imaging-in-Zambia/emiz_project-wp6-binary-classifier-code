{
 "cells": [
  {
   "cell_type": "code",
   "execution_count": 1,
   "id": "fc2318c6",
   "metadata": {
    "_cell_guid": "b1076dfc-b9ad-4769-8c92-a6c4dae69d19",
    "_uuid": "8f2839f25d086af736a60e9eeb907d3b93b6e0e5",
    "execution": {
     "iopub.execute_input": "2023-08-03T20:01:36.067145Z",
     "iopub.status.busy": "2023-08-03T20:01:36.066774Z",
     "iopub.status.idle": "2023-08-03T20:01:36.087180Z",
     "shell.execute_reply": "2023-08-03T20:01:36.086363Z"
    },
    "papermill": {
     "duration": 0.035985,
     "end_time": "2023-08-03T20:01:36.093560",
     "exception": false,
     "start_time": "2023-08-03T20:01:36.057575",
     "status": "completed"
    },
    "tags": []
   },
   "outputs": [],
   "source": [
    "# This Python 3 environment comes with many helpful analytics libraries installed\n",
    "# It is defined by the kaggle/python Docker image: https://github.com/kaggle/docker-python\n",
    "# For example, here's several helpful packages to load\n",
    "\n",
    "import numpy as np # linear algebra\n",
    "import pandas as pd # data processing, CSV file I/O (e.g. pd.read_csv)\n",
    "\n",
    "# Input data files are available in the read-only \"../input/\" directory\n",
    "# For example, running this (by clicking run or pressing Shift+Enter) will list all files under the input directory\n",
    "\n",
    "import os\n",
    "\n",
    "\n",
    "# You can write up to 20GB to the current directory (/kaggle/working/) that gets preserved as output when you create a version using \"Save & Run All\" \n",
    "# You can also write temporary files to /kaggle/temp/, but they won't be saved outside of the current session"
   ]
  },
  {
   "cell_type": "markdown",
   "id": "1f17322d",
   "metadata": {
    "papermill": {
     "duration": 0.004757,
     "end_time": "2023-08-03T20:01:36.103395",
     "exception": false,
     "start_time": "2023-08-03T20:01:36.098638",
     "status": "completed"
    },
    "tags": []
   },
   "source": [
    "The above comes as a default and I wont delete it."
   ]
  },
  {
   "cell_type": "code",
   "execution_count": 2,
   "id": "40c1f26e",
   "metadata": {
    "execution": {
     "iopub.execute_input": "2023-08-03T20:01:36.114882Z",
     "iopub.status.busy": "2023-08-03T20:01:36.114535Z",
     "iopub.status.idle": "2023-08-03T20:01:52.093267Z",
     "shell.execute_reply": "2023-08-03T20:01:52.092243Z"
    },
    "papermill": {
     "duration": 15.987689,
     "end_time": "2023-08-03T20:01:52.095953",
     "exception": false,
     "start_time": "2023-08-03T20:01:36.108264",
     "status": "completed"
    },
    "tags": []
   },
   "outputs": [
    {
     "name": "stderr",
     "output_type": "stream",
     "text": [
      "/opt/conda/lib/python3.10/site-packages/scipy/__init__.py:146: UserWarning: A NumPy version >=1.16.5 and <1.23.0 is required for this version of SciPy (detected version 1.23.5\n",
      "  warnings.warn(f\"A NumPy version >={np_minversion} and <{np_maxversion}\"\n",
      "/opt/conda/lib/python3.10/site-packages/tensorflow_io/python/ops/__init__.py:98: UserWarning: unable to load libtensorflow_io_plugins.so: unable to open file: libtensorflow_io_plugins.so, from paths: ['/opt/conda/lib/python3.10/site-packages/tensorflow_io/python/ops/libtensorflow_io_plugins.so']\n",
      "caused by: ['/opt/conda/lib/python3.10/site-packages/tensorflow_io/python/ops/libtensorflow_io_plugins.so: undefined symbol: _ZN3tsl6StatusC1EN10tensorflow5error4CodeESt17basic_string_viewIcSt11char_traitsIcEENS_14SourceLocationE']\n",
      "  warnings.warn(f\"unable to load libtensorflow_io_plugins.so: {e}\")\n",
      "/opt/conda/lib/python3.10/site-packages/tensorflow_io/python/ops/__init__.py:104: UserWarning: file system plugins are not loaded: unable to open file: libtensorflow_io.so, from paths: ['/opt/conda/lib/python3.10/site-packages/tensorflow_io/python/ops/libtensorflow_io.so']\n",
      "caused by: ['/opt/conda/lib/python3.10/site-packages/tensorflow_io/python/ops/libtensorflow_io.so: undefined symbol: _ZTVN10tensorflow13GcsFileSystemE']\n",
      "  warnings.warn(f\"file system plugins are not loaded: {e}\")\n"
     ]
    }
   ],
   "source": [
    "import tensorflow as tf\n",
    "from tensorflow.keras.preprocessing.image import ImageDataGenerator\n",
    "from tensorflow.keras.applications import VGG16\n",
    "from tensorflow.keras.models import Model\n",
    "from tensorflow.keras.layers import Dense, Dropout, Flatten\n"
   ]
  },
  {
   "cell_type": "markdown",
   "id": "f0af1fec",
   "metadata": {
    "papermill": {
     "duration": 0.003676,
     "end_time": "2023-08-03T20:01:52.103860",
     "exception": false,
     "start_time": "2023-08-03T20:01:52.100184",
     "status": "completed"
    },
    "tags": []
   },
   "source": [
    "Imagedatagenerator is a preprocessor VGG16 is a pretrained model"
   ]
  },
  {
   "cell_type": "code",
   "execution_count": 3,
   "id": "065c31e6",
   "metadata": {
    "execution": {
     "iopub.execute_input": "2023-08-03T20:01:52.114372Z",
     "iopub.status.busy": "2023-08-03T20:01:52.112914Z",
     "iopub.status.idle": "2023-08-03T20:01:52.118660Z",
     "shell.execute_reply": "2023-08-03T20:01:52.117631Z"
    },
    "papermill": {
     "duration": 0.013338,
     "end_time": "2023-08-03T20:01:52.120970",
     "exception": false,
     "start_time": "2023-08-03T20:01:52.107632",
     "status": "completed"
    },
    "tags": []
   },
   "outputs": [],
   "source": [
    "# set paths\n",
    "train_dir = \"/kaggle/input/chest-xray-pneumonia/chest_xray/train\"\n",
    "val_dir = \"/kaggle/input/chest-xray-pneumonia/chest_xray/val\"\n",
    "test_dir = \"/kaggle/input/chest-xray-pneumonia/chest_xray/test\"\n",
    "\n",
    "# define some parameters\n",
    "img_height, img_width = 150, 150\n",
    "batch_size = 32\n"
   ]
  },
  {
   "cell_type": "markdown",
   "id": "905651d8",
   "metadata": {
    "papermill": {
     "duration": 0.003871,
     "end_time": "2023-08-03T20:01:52.128513",
     "exception": false,
     "start_time": "2023-08-03T20:01:52.124642",
     "status": "completed"
    },
    "tags": []
   },
   "source": [
    "Setting location variables"
   ]
  },
  {
   "cell_type": "code",
   "execution_count": 4,
   "id": "87339c5d",
   "metadata": {
    "execution": {
     "iopub.execute_input": "2023-08-03T20:01:52.137600Z",
     "iopub.status.busy": "2023-08-03T20:01:52.137314Z",
     "iopub.status.idle": "2023-08-03T20:01:54.803263Z",
     "shell.execute_reply": "2023-08-03T20:01:54.802255Z"
    },
    "papermill": {
     "duration": 2.673168,
     "end_time": "2023-08-03T20:01:54.805527",
     "exception": false,
     "start_time": "2023-08-03T20:01:52.132359",
     "status": "completed"
    },
    "tags": []
   },
   "outputs": [
    {
     "name": "stdout",
     "output_type": "stream",
     "text": [
      "Found 5216 images belonging to 2 classes.\n",
      "Found 16 images belonging to 2 classes.\n",
      "Found 624 images belonging to 2 classes.\n"
     ]
    }
   ],
   "source": [
    "# preprocess data\n",
    "train_datagen = ImageDataGenerator(rescale = 1./255)\n",
    "val_datagen = ImageDataGenerator(rescale = 1./255)\n",
    "test_datagen = ImageDataGenerator(rescale = 1./255)\n",
    "\n",
    "train_generator = train_datagen.flow_from_directory(\n",
    "    train_dir,\n",
    "    target_size = (img_height, img_width),\n",
    "    batch_size = batch_size,\n",
    "    class_mode = 'binary')\n",
    "\n",
    "validation_generator = val_datagen.flow_from_directory(\n",
    "    val_dir,\n",
    "    target_size = (img_height, img_width),\n",
    "    batch_size = batch_size,\n",
    "    class_mode = 'binary')\n",
    "\n",
    "test_generator = test_datagen.flow_from_directory(\n",
    "    test_dir,\n",
    "    target_size = (img_height, img_width),\n",
    "    batch_size = 1,\n",
    "    class_mode = 'binary',\n",
    "    shuffle = False)\n"
   ]
  },
  {
   "cell_type": "markdown",
   "id": "d86012da",
   "metadata": {
    "papermill": {
     "duration": 0.004273,
     "end_time": "2023-08-03T20:01:54.814167",
     "exception": false,
     "start_time": "2023-08-03T20:01:54.809894",
     "status": "completed"
    },
    "tags": []
   },
   "source": [
    "Work is happening"
   ]
  },
  {
   "cell_type": "code",
   "execution_count": 5,
   "id": "804b6b05",
   "metadata": {
    "execution": {
     "iopub.execute_input": "2023-08-03T20:01:54.823722Z",
     "iopub.status.busy": "2023-08-03T20:01:54.823441Z",
     "iopub.status.idle": "2023-08-03T20:02:01.604645Z",
     "shell.execute_reply": "2023-08-03T20:02:01.603585Z"
    },
    "papermill": {
     "duration": 6.788869,
     "end_time": "2023-08-03T20:02:01.607250",
     "exception": false,
     "start_time": "2023-08-03T20:01:54.818381",
     "status": "completed"
    },
    "tags": []
   },
   "outputs": [
    {
     "name": "stdout",
     "output_type": "stream",
     "text": [
      "Downloading data from https://storage.googleapis.com/tensorflow/keras-applications/vgg16/vgg16_weights_tf_dim_ordering_tf_kernels_notop.h5\n",
      "58889256/58889256 [==============================] - 0s 0us/step\n"
     ]
    }
   ],
   "source": [
    "# load base model\n",
    "base_model = VGG16(weights='imagenet', include_top=False, input_shape=(img_height, img_width, 3))\n",
    "\n",
    "# freeze base model\n",
    "for layer in base_model.layers:\n",
    "    layer.trainable = False\n",
    "\n",
    "# add new layers\n",
    "x = base_model.output\n",
    "x = Flatten()(x)\n",
    "x = Dense(1024, activation='relu')(x)\n",
    "x = Dropout(0.5)(x)\n",
    "predictions = Dense(1, activation='sigmoid')(x)\n",
    "model = Model(inputs=base_model.input, outputs=predictions)\n"
   ]
  },
  {
   "cell_type": "code",
   "execution_count": 6,
   "id": "1164d798",
   "metadata": {
    "execution": {
     "iopub.execute_input": "2023-08-03T20:02:01.618877Z",
     "iopub.status.busy": "2023-08-03T20:02:01.618554Z",
     "iopub.status.idle": "2023-08-03T20:24:06.523205Z",
     "shell.execute_reply": "2023-08-03T20:24:06.522189Z"
    },
    "papermill": {
     "duration": 1325.180608,
     "end_time": "2023-08-03T20:24:06.792915",
     "exception": false,
     "start_time": "2023-08-03T20:02:01.612307",
     "status": "completed"
    },
    "tags": []
   },
   "outputs": [
    {
     "name": "stdout",
     "output_type": "stream",
     "text": [
      "Epoch 1/20\n",
      "163/163 [==============================] - 103s 546ms/step - loss: 0.2487 - accuracy: 0.9185 - val_loss: 0.3502 - val_accuracy: 0.8125\n",
      "Epoch 2/20\n",
      "163/163 [==============================] - 54s 328ms/step - loss: 0.0967 - accuracy: 0.9636 - val_loss: 0.1694 - val_accuracy: 0.8750\n",
      "Epoch 3/20\n",
      "163/163 [==============================] - 54s 333ms/step - loss: 0.0831 - accuracy: 0.9680 - val_loss: 0.1028 - val_accuracy: 0.9375\n",
      "Epoch 4/20\n",
      "163/163 [==============================] - 53s 327ms/step - loss: 0.0809 - accuracy: 0.9689 - val_loss: 0.2616 - val_accuracy: 0.8125\n",
      "Epoch 5/20\n",
      "163/163 [==============================] - 53s 327ms/step - loss: 0.0546 - accuracy: 0.9787 - val_loss: 0.0996 - val_accuracy: 0.9375\n",
      "Epoch 6/20\n",
      "163/163 [==============================] - 54s 331ms/step - loss: 0.0531 - accuracy: 0.9793 - val_loss: 0.5273 - val_accuracy: 0.8125\n",
      "Epoch 7/20\n",
      "163/163 [==============================] - 53s 327ms/step - loss: 0.0531 - accuracy: 0.9806 - val_loss: 0.2197 - val_accuracy: 0.9375\n",
      "Epoch 8/20\n",
      "163/163 [==============================] - 54s 328ms/step - loss: 0.0411 - accuracy: 0.9847 - val_loss: 0.1554 - val_accuracy: 0.9375\n",
      "Epoch 9/20\n",
      "163/163 [==============================] - 54s 330ms/step - loss: 0.0457 - accuracy: 0.9818 - val_loss: 0.0641 - val_accuracy: 1.0000\n",
      "Epoch 10/20\n",
      "163/163 [==============================] - 54s 331ms/step - loss: 0.0501 - accuracy: 0.9822 - val_loss: 0.8378 - val_accuracy: 0.6250\n",
      "Epoch 11/20\n",
      "163/163 [==============================] - 54s 328ms/step - loss: 0.0348 - accuracy: 0.9870 - val_loss: 0.0818 - val_accuracy: 0.9375\n",
      "Epoch 12/20\n",
      "163/163 [==============================] - 54s 331ms/step - loss: 0.0587 - accuracy: 0.9768 - val_loss: 0.2125 - val_accuracy: 0.9375\n",
      "Epoch 13/20\n",
      "163/163 [==============================] - 55s 339ms/step - loss: 0.0318 - accuracy: 0.9883 - val_loss: 0.0459 - val_accuracy: 1.0000\n",
      "Epoch 14/20\n",
      "163/163 [==============================] - 55s 336ms/step - loss: 0.0272 - accuracy: 0.9900 - val_loss: 0.0714 - val_accuracy: 0.9375\n",
      "Epoch 15/20\n",
      "163/163 [==============================] - 55s 336ms/step - loss: 0.0291 - accuracy: 0.9902 - val_loss: 0.0760 - val_accuracy: 0.9375\n",
      "Epoch 16/20\n",
      "163/163 [==============================] - 53s 327ms/step - loss: 0.0330 - accuracy: 0.9864 - val_loss: 0.0367 - val_accuracy: 1.0000\n",
      "Epoch 17/20\n",
      "163/163 [==============================] - 53s 327ms/step - loss: 0.0253 - accuracy: 0.9910 - val_loss: 0.0573 - val_accuracy: 0.9375\n",
      "Epoch 18/20\n",
      "163/163 [==============================] - 55s 334ms/step - loss: 0.0323 - accuracy: 0.9868 - val_loss: 0.0726 - val_accuracy: 0.9375\n",
      "Epoch 19/20\n",
      "163/163 [==============================] - 55s 336ms/step - loss: 0.0216 - accuracy: 0.9921 - val_loss: 0.0877 - val_accuracy: 0.9375\n",
      "Epoch 20/20\n",
      "163/163 [==============================] - 54s 331ms/step - loss: 0.0246 - accuracy: 0.9910 - val_loss: 0.1887 - val_accuracy: 0.9375\n"
     ]
    },
    {
     "data": {
      "text/plain": [
       "<keras.callbacks.History at 0x7e95c546c610>"
      ]
     },
     "execution_count": 6,
     "metadata": {},
     "output_type": "execute_result"
    }
   ],
   "source": [
    "# compile model\n",
    "model.compile(optimizer='adam', loss='binary_crossentropy', metrics=['accuracy'])\n",
    "\n",
    "# train the model\n",
    "model.fit(\n",
    "    train_generator,\n",
    "    epochs = 20,\n",
    "    validation_data = validation_generator)\n"
   ]
  },
  {
   "cell_type": "code",
   "execution_count": 7,
   "id": "0546cd29",
   "metadata": {
    "execution": {
     "iopub.execute_input": "2023-08-03T20:24:07.355713Z",
     "iopub.status.busy": "2023-08-03T20:24:07.355339Z",
     "iopub.status.idle": "2023-08-03T20:30:02.829335Z",
     "shell.execute_reply": "2023-08-03T20:30:02.828288Z"
    },
    "papermill": {
     "duration": 356.122485,
     "end_time": "2023-08-03T20:30:03.181562",
     "exception": false,
     "start_time": "2023-08-03T20:24:07.059077",
     "status": "completed"
    },
    "tags": []
   },
   "outputs": [
    {
     "name": "stdout",
     "output_type": "stream",
     "text": [
      "Epoch 1/6\n",
      "163/163 [==============================] - 56s 329ms/step - loss: 0.0261 - accuracy: 0.9906 - val_loss: 0.1317 - val_accuracy: 0.9375\n",
      "Epoch 2/6\n",
      "163/163 [==============================] - 54s 333ms/step - loss: 0.0211 - accuracy: 0.9929 - val_loss: 0.1500 - val_accuracy: 0.9375\n",
      "Epoch 3/6\n",
      "163/163 [==============================] - 54s 334ms/step - loss: 0.0218 - accuracy: 0.9921 - val_loss: 0.1461 - val_accuracy: 0.9375\n",
      "Epoch 4/6\n",
      "163/163 [==============================] - 54s 332ms/step - loss: 0.0180 - accuracy: 0.9925 - val_loss: 0.0355 - val_accuracy: 1.0000\n",
      "Epoch 5/6\n",
      "163/163 [==============================] - 54s 333ms/step - loss: 0.0210 - accuracy: 0.9927 - val_loss: 0.0666 - val_accuracy: 0.9375\n",
      "Epoch 6/6\n",
      "163/163 [==============================] - 54s 332ms/step - loss: 0.0178 - accuracy: 0.9929 - val_loss: 0.1638 - val_accuracy: 0.9375\n"
     ]
    },
    {
     "data": {
      "text/plain": [
       "<keras.callbacks.History at 0x7e95201e1000>"
      ]
     },
     "execution_count": 7,
     "metadata": {},
     "output_type": "execute_result"
    }
   ],
   "source": [
    "# compile model\n",
    "model.compile(optimizer='adam', loss='binary_crossentropy', metrics=['accuracy'])\n",
    "\n",
    "# train the model\n",
    "model.fit(\n",
    "    train_generator,\n",
    "    epochs = 6,\n",
    "    validation_data = validation_generator)\n"
   ]
  },
  {
   "cell_type": "code",
   "execution_count": 8,
   "id": "ae43614a",
   "metadata": {
    "execution": {
     "iopub.execute_input": "2023-08-03T20:30:03.885771Z",
     "iopub.status.busy": "2023-08-03T20:30:03.885396Z",
     "iopub.status.idle": "2023-08-03T20:30:15.397537Z",
     "shell.execute_reply": "2023-08-03T20:30:15.396430Z"
    },
    "papermill": {
     "duration": 11.866707,
     "end_time": "2023-08-03T20:30:15.400531",
     "exception": false,
     "start_time": "2023-08-03T20:30:03.533824",
     "status": "completed"
    },
    "tags": []
   },
   "outputs": [
    {
     "name": "stdout",
     "output_type": "stream",
     "text": [
      "624/624 [==============================] - 11s 17ms/step - loss: 1.4978 - accuracy: 0.7804\n",
      "Test loss:  1.4977608919143677\n",
      "Test accuracy:  0.7804487347602844\n"
     ]
    }
   ],
   "source": [
    "# evaluate model\n",
    "loss, acc = model.evaluate(test_generator)\n",
    "print(\"Test loss: \", loss)\n",
    "print(\"Test accuracy: \", acc)\n",
    "model.save('pneumonia_modelv2.h5')\n"
   ]
  }
 ],
 "metadata": {
  "kernelspec": {
   "display_name": "Python 3",
   "language": "python",
   "name": "python3"
  },
  "language_info": {
   "codemirror_mode": {
    "name": "ipython",
    "version": 3
   },
   "file_extension": ".py",
   "mimetype": "text/x-python",
   "name": "python",
   "nbconvert_exporter": "python",
   "pygments_lexer": "ipython3",
   "version": "3.10.12"
  },
  "papermill": {
   "default_parameters": {},
   "duration": 1737.80265,
   "end_time": "2023-08-03T20:30:19.688740",
   "environment_variables": {},
   "exception": null,
   "input_path": "__notebook__.ipynb",
   "output_path": "__notebook__.ipynb",
   "parameters": {},
   "start_time": "2023-08-03T20:01:21.886090",
   "version": "2.4.0"
  }
 },
 "nbformat": 4,
 "nbformat_minor": 5
}
